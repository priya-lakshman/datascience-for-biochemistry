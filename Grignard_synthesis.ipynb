{
  "nbformat": 4,
  "nbformat_minor": 0,
  "metadata": {
    "colab": {
      "name": "Grignard synthesis",
      "provenance": [],
      "mount_file_id": "1QuphUetk3rRJbixtm6aZO6wa6kz07t-M",
      "authorship_tag": "ABX9TyOBWfYic2O3lDzZP+TKv77o",
      "include_colab_link": true
    },
    "kernelspec": {
      "name": "python3",
      "display_name": "Python 3"
    },
    "language_info": {
      "name": "python"
    }
  },
  "cells": [
    {
      "cell_type": "markdown",
      "metadata": {
        "id": "view-in-github",
        "colab_type": "text"
      },
      "source": [
        "<a href=\"https://colab.research.google.com/github/priya-lakshman/datascience-for-biochemistry/blob/main/Grignard_synthesis.ipynb\" target=\"_parent\"><img src=\"https://colab.research.google.com/assets/colab-badge.svg\" alt=\"Open In Colab\"/></a>"
      ]
    },
    {
      "cell_type": "markdown",
      "source": [
        "Part 1:\n",
        "Preparation of Grignard Reagent, Phenylmagnesium Bromide\n",
        "\n"
      ],
      "metadata": {
        "id": "YqT9h01mI8__"
      }
    },
    {
      "cell_type": "code",
      "source": [
        "# unit = grams\n",
        "bromobenzene_reactant = 1.2\n",
        "mg_reagent = 0.3\n",
        "diethylether_solvent = \"Et2O\"\n",
        "iodine_catalyst = \"X\"\n",
        "\n",
        "# molar mass (g/mol) of reactant and reagent\n",
        "bromobenzene_molarmass = 157.01\n",
        "mg_molarmass = 24.305\n",
        "\n",
        "#converting grams to moles \n",
        "bromobenzene_reactant_moles = float(bromobenzene_molarmass / bromobenzene_reactant)\n",
        "print(bromobenzene_reactant_moles, \"moles of bromobenzene used\")\n",
        "\n",
        "mg_reagent_moles = float(mg_molarmass / mg_reagent)\n",
        "print( mg_reagent_moles, \"moles of magnesium used\")\n",
        "\n",
        "\n",
        "\n",
        "print(\"\")\n",
        "\n",
        "def limiting_reagent(reactant_name,reactant_moles,reagent_name,reagent_moles):\n",
        "    if reactant_moles < reagent_moles :\n",
        "     print(reactant_name, \"is the limiting reagent\")\n",
        "    elif reactant_moles == reagent_moles:\n",
        "      print(\"There are equal quantities of\", reactant_name, \"and\", reagent_name)\n",
        "    else:\n",
        "     print(reagent_name, \"is the limiting reagent\")\n",
        "\n",
        "limiting_reagent(\"bromobenzene\", bromobenzene_reactant_moles,\"magnesium\", mg_reagent_moles)   \n",
        "\n",
        "\n",
        "def grignard_reagent_synthesis(reactant_moles,reagent_moles):\n",
        "    if reactant_moles <= reagent_moles:\n",
        "     product_moles = reactant_moles\n",
        "    else :\n",
        "     product_moles = reagent_moles    \n",
        "    return(product_moles)\n",
        "\n",
        "\n",
        "print(\"\")\n",
        "\n",
        "phenylmagnesium_bromide_moles =  float(grignard_reagent_synthesis(bromobenzene_reactant_moles,mg_reagent_moles))\n",
        "\n",
        "print(phenylmagnesium_bromide_moles, \"moles of phenylmagnesium bromide are synthesized\")\n",
        "\n"
      ],
      "metadata": {
        "id": "E9hRQN5ZLPB3",
        "colab": {
          "base_uri": "https://localhost:8080/"
        },
        "outputId": "4c587105-441c-441e-a8c8-d9581253f50e"
      },
      "execution_count": 19,
      "outputs": [
        {
          "output_type": "stream",
          "name": "stdout",
          "text": [
            "130.84166666666667 moles of bromobenzene used\n",
            "81.01666666666667 moles of magnesium used\n",
            "\n",
            "magnesium is the limiting reagent\n",
            "\n",
            "81.01666666666667 moles of phenylmagnesium bromide are synthesized\n"
          ]
        }
      ]
    },
    {
      "cell_type": "code",
      "source": [
        ""
      ],
      "metadata": {
        "id": "nO54sa7drKCl"
      },
      "execution_count": null,
      "outputs": []
    },
    {
      "cell_type": "markdown",
      "source": [
        ""
      ],
      "metadata": {
        "id": "iDGmWTfEW438"
      }
    },
    {
      "cell_type": "code",
      "source": [
        ""
      ],
      "metadata": {
        "id": "h-4bQ5PkV2xt"
      },
      "execution_count": null,
      "outputs": []
    },
    {
      "cell_type": "markdown",
      "source": [
        ""
      ],
      "metadata": {
        "id": "zXOeYKz1W23F"
      }
    }
  ]
}